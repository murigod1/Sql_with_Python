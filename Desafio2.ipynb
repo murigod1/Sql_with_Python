{
 "cells": [
  {
   "cell_type": "markdown",
   "metadata": {},
   "source": [
    "Vamos aproveitar esse espaço para fixar os conteúdos aprendidos durante as aulas. Para isso, serão propostos desafios que irão sugerir encontrar e exibir informações referentes ao banco de dados.\n",
    "\n",
    "Esse desafio vai ser constituído de dois casos para exibir informação, e neles não será necessário construir um gráfico, mas caso queira, fique a vontade para criar uma visualização ou estilizar as tabelas do desafio.\n",
    "\n",
    "Vamos aos desafios dessa aula, o primeiro é exibir os 10 produtos mais vendidos durante o ano de 2019, que podem ser representados em uma tabela. Já o segundo será publicar a distribuição através dos meses da receita obtida em vendas no ano de 2021. Busque mostrar essa distribuição colocando o mês e sua receita correspondente na visualização.\n",
    "\n",
    "Vale relembrar que é interessante continuar com as mesmas tabelas já inseridas no banco ('itens_pedidos', 'pedidos', 'produtos', 'vendedores') e também utilizar a mesma função de execução de consulta (sql_df) para resolver os desafios.\n",
    "\n",
    "Caso precise de ajuda, uma opção de solução da atividade estará disponível na seção “Opinião da pessoa instrutora”."
   ]
  },
  {
   "cell_type": "code",
   "execution_count": 1,
   "metadata": {},
   "outputs": [],
   "source": [
    "import pandas as pd\n",
    "import matplotlib.pyplot as plt\n",
    "from sqlalchemy import create_engine, inspect, text"
   ]
  },
  {
   "cell_type": "code",
   "execution_count": 2,
   "metadata": {},
   "outputs": [],
   "source": [
    "url_itens_pedidos = 'https://github.com/alura-cursos/SQL-python-integracao/raw/main/TABELAS/itens_pedidos.csv'\n",
    "url_pedidos = 'https://github.com/alura-cursos/SQL-python-integracao/raw/main/TABELAS/pedidos.csv'\n",
    "url_produto = 'https://github.com/alura-cursos/SQL-python-integracao/raw/main/TABELAS/produtos.csv'\n",
    "url_vendedores = 'https://github.com/alura-cursos/SQL-python-integracao/raw/main/TABELAS/vendedores.csv'"
   ]
  },
  {
   "cell_type": "code",
   "execution_count": 3,
   "metadata": {},
   "outputs": [],
   "source": [
    "itens_pedidos = pd.read_csv(url_itens_pedidos)\n",
    "pedidos = pd.read_csv(url_pedidos)\n",
    "produto = pd.read_csv(url_produto)\n",
    "vendedores = pd.read_csv(url_vendedores)"
   ]
  },
  {
   "cell_type": "code",
   "execution_count": 4,
   "metadata": {},
   "outputs": [],
   "source": [
    "engine = create_engine('sqlite:///:memory:')"
   ]
  },
  {
   "cell_type": "code",
   "execution_count": 5,
   "metadata": {},
   "outputs": [
    {
     "data": {
      "text/plain": [
       "205"
      ]
     },
     "execution_count": 5,
     "metadata": {},
     "output_type": "execute_result"
    }
   ],
   "source": [
    "pedidos.to_sql('pedidos', engine, index=False)\n",
    "itens_pedidos.to_sql('itens_pedidos', engine, index=False)\n",
    "vendedores.to_sql('vendedores', engine, index=False)\n",
    "produto.to_sql('produtos', engine, index=False)"
   ]
  },
  {
   "cell_type": "code",
   "execution_count": 6,
   "metadata": {},
   "outputs": [],
   "source": [
    "def sql_df(query):\n",
    "    with engine.connect() as conexao:\n",
    "        consulta = conexao.execute(text(query))\n",
    "        resultado = consulta.fetchall()\n",
    "    return pd.DataFrame(resultado, columns=consulta.keys())"
   ]
  },
  {
   "cell_type": "markdown",
   "metadata": {},
   "source": [
    "Exibir os 10 produtos mais vendidos durante o ano de 2019"
   ]
  },
  {
   "cell_type": "code",
   "execution_count": 30,
   "metadata": {},
   "outputs": [
    {
     "data": {
      "text/html": [
       "<div>\n",
       "<style scoped>\n",
       "    .dataframe tbody tr th:only-of-type {\n",
       "        vertical-align: middle;\n",
       "    }\n",
       "\n",
       "    .dataframe tbody tr th {\n",
       "        vertical-align: top;\n",
       "    }\n",
       "\n",
       "    .dataframe thead th {\n",
       "        text-align: right;\n",
       "    }\n",
       "</style>\n",
       "<table border=\"1\" class=\"dataframe\">\n",
       "  <thead>\n",
       "    <tr style=\"text-align: right;\">\n",
       "      <th></th>\n",
       "      <th>produto</th>\n",
       "      <th>QNT_PEDIDOS</th>\n",
       "    </tr>\n",
       "  </thead>\n",
       "  <tbody>\n",
       "    <tr>\n",
       "      <th>0</th>\n",
       "      <td>Vestido Recortes Cores</td>\n",
       "      <td>85</td>\n",
       "    </tr>\n",
       "    <tr>\n",
       "      <th>1</th>\n",
       "      <td>Calca Jeans Costuras</td>\n",
       "      <td>81</td>\n",
       "    </tr>\n",
       "    <tr>\n",
       "      <th>2</th>\n",
       "      <td>Saia Pregas Preta</td>\n",
       "      <td>73</td>\n",
       "    </tr>\n",
       "    <tr>\n",
       "      <th>3</th>\n",
       "      <td>Calca Alfaiataria Preta</td>\n",
       "      <td>66</td>\n",
       "    </tr>\n",
       "    <tr>\n",
       "      <th>4</th>\n",
       "      <td>Camisa Xadrez Azul</td>\n",
       "      <td>60</td>\n",
       "    </tr>\n",
       "    <tr>\n",
       "      <th>5</th>\n",
       "      <td>Bomber Tricot Off</td>\n",
       "      <td>56</td>\n",
       "    </tr>\n",
       "    <tr>\n",
       "      <th>6</th>\n",
       "      <td>Shorts Bordado Branco</td>\n",
       "      <td>55</td>\n",
       "    </tr>\n",
       "    <tr>\n",
       "      <th>7</th>\n",
       "      <td>Blusa Manga Estampa</td>\n",
       "      <td>54</td>\n",
       "    </tr>\n",
       "    <tr>\n",
       "      <th>8</th>\n",
       "      <td>Saia Midi Cinto</td>\n",
       "      <td>53</td>\n",
       "    </tr>\n",
       "    <tr>\n",
       "      <th>9</th>\n",
       "      <td>Saia Evase Cinza</td>\n",
       "      <td>53</td>\n",
       "    </tr>\n",
       "  </tbody>\n",
       "</table>\n",
       "</div>"
      ],
      "text/plain": [
       "                   produto  QNT_PEDIDOS\n",
       "0   Vestido Recortes Cores           85\n",
       "1     Calca Jeans Costuras           81\n",
       "2        Saia Pregas Preta           73\n",
       "3  Calca Alfaiataria Preta           66\n",
       "4       Camisa Xadrez Azul           60\n",
       "5        Bomber Tricot Off           56\n",
       "6    Shorts Bordado Branco           55\n",
       "7      Blusa Manga Estampa           54\n",
       "8          Saia Midi Cinto           53\n",
       "9         Saia Evase Cinza           53"
      ]
     },
     "execution_count": 30,
     "metadata": {},
     "output_type": "execute_result"
    }
   ],
   "source": [
    "queryExe = 'SELECT * FROM PRODUTOS'\n",
    "query = '''SELECT PRODUTOS.PRODUTO, COUNT(PEDIDOS.PEDIDO_ID) AS QNT_PEDIDOS\n",
    "FROM PRODUTOS, PEDIDOS\n",
    "WHERE strftime('%Y', data_compra) = '2019' AND PRODUTOS.PRODUTO_ID = PEDIDOS.PRODUTO_ID\n",
    "GROUP BY PRODUTOS.PRODUTO\n",
    "ORDER BY COUNT(PEDIDOS.PEDIDO_ID) DESC'''\n",
    "sql_df(query).head(10)"
   ]
  },
  {
   "cell_type": "markdown",
   "metadata": {},
   "source": [
    "Já o segundo será publicar a distribuição através dos meses da receita obtida em vendas no ano de 2021"
   ]
  },
  {
   "cell_type": "code",
   "execution_count": 54,
   "metadata": {},
   "outputs": [
    {
     "data": {
      "image/png": "[encoded data removed]",
      "text/plain": [
       "<Figure size 640x480 with 1 Axes>"
      ]
     },
     "metadata": {},
     "output_type": "display_data"
    },
    {
     "data": {
      "text/html": [
       "<div>\n",
       "<style scoped>\n",
       "    .dataframe tbody tr th:only-of-type {\n",
       "        vertical-align: middle;\n",
       "    }\n",
       "\n",
       "    .dataframe tbody tr th {\n",
       "        vertical-align: top;\n",
       "    }\n",
       "\n",
       "    .dataframe thead th {\n",
       "        text-align: right;\n",
       "    }\n",
       "</style>\n",
       "<table border=\"1\" class=\"dataframe\">\n",
       "  <thead>\n",
       "    <tr style=\"text-align: right;\">\n",
       "      <th></th>\n",
       "      <th>mes</th>\n",
       "      <th>valores</th>\n",
       "    </tr>\n",
       "  </thead>\n",
       "  <tbody>\n",
       "    <tr>\n",
       "      <th>0</th>\n",
       "      <td>01</td>\n",
       "      <td>2097109</td>\n",
       "    </tr>\n",
       "    <tr>\n",
       "      <th>1</th>\n",
       "      <td>02</td>\n",
       "      <td>1140729</td>\n",
       "    </tr>\n",
       "    <tr>\n",
       "      <th>2</th>\n",
       "      <td>03</td>\n",
       "      <td>51525</td>\n",
       "    </tr>\n",
       "  </tbody>\n",
       "</table>\n",
       "</div>"
      ],
      "text/plain": [
       "  mes  valores\n",
       "0  01  2097109\n",
       "1  02  1140729\n",
       "2  03    51525"
      ]
     },
     "execution_count": 54,
     "metadata": {},
     "output_type": "execute_result"
    }
   ],
   "source": [
    "queryExe = 'SELECT * FROM PEDIDOS'\n",
    "query = '''SELECT strftime('%m', data_compra) AS 'mes', SUM(PEDIDOS.TOTAL) AS valores\n",
    "FROM PEDIDOS\n",
    "WHERE strftime('%Y', data_compra) = '2020'\n",
    "GROUP BY strftime('%m', data_compra)\n",
    "'''\n",
    "\n",
    "query21 = '''SELECT strftime('%m', data_compra) AS 'mes', SUM(PEDIDOS.TOTAL) AS valores\n",
    "FROM PEDIDOS\n",
    "WHERE strftime('%Y', data_compra) = '2021'\n",
    "GROUP BY strftime('%m', data_compra)\n",
    "'''\n",
    "result = sql_df(query)\n",
    "result21 = sql_df(query21)\n",
    "\n",
    "import matplotlib.pyplot as plt\n",
    "\n",
    "# Plotar o gráfico de 2019 e 2020\n",
    "plt.plot(result.mes.to_numpy(), result.valores.to_numpy(), marker='o', linestyle='-', color='#9353FF', label = '2020')\n",
    "plt.plot(result21.mes.to_numpy(), result21.valores.to_numpy(), marker='o', linestyle='-', color='#C0ED22', label = '2021')\n",
    "\n",
    "# Definir título e eixos\n",
    "plt.title('Vendas em 2020 e 2021')\n",
    "plt.xlabel('Meses')\n",
    "plt.ylabel('Quantidade de Vendas')\n",
    "\n",
    "# Adicionar a legenda\n",
    "plt.legend()\n",
    "\n",
    "# Adicionar grid horizontal\n",
    "plt.grid(axis='y', linestyle='--')\n",
    "\n",
    "# Exibir a figura\n",
    "plt.show()\n",
    "result21\n"
   ]
  }
 ],
 "metadata": {
  "kernelspec": {
   "display_name": "Python 3",
   "language": "python",
   "name": "python3"
  },
  "language_info": {
   "codemirror_mode": {
    "name": "ipython",
    "version": 3
   },
   "file_extension": ".py",
   "mimetype": "text/x-python",
   "name": "python",
   "nbconvert_exporter": "python",
   "pygments_lexer": "ipython3",
   "version": "3.11.4"
  },
  "orig_nbformat": 4
 },
 "nbformat": 4,
 "nbformat_minor": 2
}
